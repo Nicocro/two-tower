{
 "cells": [
  {
   "cell_type": "code",
   "execution_count": 1,
   "metadata": {},
   "outputs": [],
   "source": [
    "from datasets import load_dataset\n",
    "\n",
    "ds = load_dataset(\"microsoft/ms_marco\", \"v1.1\")"
   ]
  },
  {
   "cell_type": "code",
   "execution_count": 2,
   "metadata": {},
   "outputs": [
    {
     "name": "stdout",
     "output_type": "stream",
     "text": [
      "<class 'datasets.dataset_dict.DatasetDict'>\n"
     ]
    }
   ],
   "source": [
    "print(type(ds))"
   ]
  },
  {
   "cell_type": "code",
   "execution_count": 3,
   "metadata": {},
   "outputs": [
    {
     "data": {
      "text/html": [
       "<div>\n",
       "<style scoped>\n",
       "    .dataframe tbody tr th:only-of-type {\n",
       "        vertical-align: middle;\n",
       "    }\n",
       "\n",
       "    .dataframe tbody tr th {\n",
       "        vertical-align: top;\n",
       "    }\n",
       "\n",
       "    .dataframe thead th {\n",
       "        text-align: right;\n",
       "    }\n",
       "</style>\n",
       "<table border=\"1\" class=\"dataframe\">\n",
       "  <thead>\n",
       "    <tr style=\"text-align: right;\">\n",
       "      <th></th>\n",
       "      <th>0</th>\n",
       "    </tr>\n",
       "  </thead>\n",
       "  <tbody>\n",
       "    <tr>\n",
       "      <th>0</th>\n",
       "      <td>what is rba</td>\n",
       "    </tr>\n",
       "    <tr>\n",
       "      <th>1</th>\n",
       "      <td>was ronald reagan a democrat</td>\n",
       "    </tr>\n",
       "    <tr>\n",
       "      <th>2</th>\n",
       "      <td>how long do you need for sydney and surroundin...</td>\n",
       "    </tr>\n",
       "    <tr>\n",
       "      <th>3</th>\n",
       "      <td>price to install tile in shower</td>\n",
       "    </tr>\n",
       "    <tr>\n",
       "      <th>4</th>\n",
       "      <td>why conversion observed in body</td>\n",
       "    </tr>\n",
       "  </tbody>\n",
       "</table>\n",
       "</div>"
      ],
      "text/plain": [
       "                                                   0\n",
       "0                                        what is rba\n",
       "1                       was ronald reagan a democrat\n",
       "2  how long do you need for sydney and surroundin...\n",
       "3                    price to install tile in shower\n",
       "4                    why conversion observed in body"
      ]
     },
     "execution_count": 3,
     "metadata": {},
     "output_type": "execute_result"
    }
   ],
   "source": [
    "import pandas as pd \n",
    "\n",
    "query_df = pd.DataFrame(ds['train']['query'])\n",
    "query_df.head()"
   ]
  },
  {
   "cell_type": "code",
   "execution_count": 4,
   "metadata": {},
   "outputs": [
    {
     "name": "stdout",
     "output_type": "stream",
     "text": [
      "82326\n",
      "<class 'pandas.core.frame.DataFrame'>\n"
     ]
    }
   ],
   "source": [
    "print(len(query_df))\n",
    "print(type(query_df))\n",
    "query_df.columns = ['query']"
   ]
  },
  {
   "cell_type": "code",
   "execution_count": 5,
   "metadata": {},
   "outputs": [
    {
     "name": "stdout",
     "output_type": "stream",
     "text": [
      "0\n"
     ]
    }
   ],
   "source": [
    "num_nans = query_df['query'].isna().sum()\n",
    "print(num_nans)"
   ]
  },
  {
   "cell_type": "code",
   "execution_count": 6,
   "metadata": {},
   "outputs": [
    {
     "name": "stdout",
     "output_type": "stream",
     "text": [
      "33.9625756140223\n"
     ]
    }
   ],
   "source": [
    "query_df['query_length'] = query_df['query'].apply(len)\n",
    "avg_q_lenght = query_df['query_length'].mean()\n",
    "print(avg_q_lenght)\n"
   ]
  },
  {
   "cell_type": "code",
   "execution_count": 7,
   "metadata": {},
   "outputs": [
    {
     "data": {
      "text/plain": [
       "<Axes: >"
      ]
     },
     "execution_count": 7,
     "metadata": {},
     "output_type": "execute_result"
    },
    {
     "data": {
      "image/png": "[encoded data removed]",
      "text/plain": [
       "<Figure size 640x480 with 1 Axes>"
      ]
     },
     "metadata": {},
     "output_type": "display_data"
    }
   ],
   "source": [
    "import matplotlib.pyplot as plt\n",
    "\n",
    "query_df['query_length'].hist(bins=30)"
   ]
  },
  {
   "cell_type": "code",
   "execution_count": 8,
   "metadata": {},
   "outputs": [
    {
     "name": "stdout",
     "output_type": "stream",
     "text": [
      "6.04838082744212\n"
     ]
    }
   ],
   "source": [
    "query_df['query_w_length'] = query_df['query'].apply(lambda x: len(x.split()))\n",
    "avg_q_w_lenght = query_df['query_w_length'].mean()\n",
    "print(avg_q_w_lenght)"
   ]
  },
  {
   "cell_type": "code",
   "execution_count": 9,
   "metadata": {},
   "outputs": [
    {
     "data": {
      "text/plain": [
       "<Axes: >"
      ]
     },
     "execution_count": 9,
     "metadata": {},
     "output_type": "execute_result"
    },
    {
     "data": {
      "image/png": "[encoded data removed]",
      "text/plain": [
       "<Figure size 640x480 with 1 Axes>"
      ]
     },
     "metadata": {},
     "output_type": "display_data"
    }
   ],
   "source": [
    "query_df['query_w_length'].hist(bins=30)"
   ]
  },
  {
   "cell_type": "code",
   "execution_count": 10,
   "metadata": {},
   "outputs": [
    {
     "data": {
      "text/html": [
       "<div>\n",
       "<style scoped>\n",
       "    .dataframe tbody tr th:only-of-type {\n",
       "        vertical-align: middle;\n",
       "    }\n",
       "\n",
       "    .dataframe tbody tr th {\n",
       "        vertical-align: top;\n",
       "    }\n",
       "\n",
       "    .dataframe thead th {\n",
       "        text-align: right;\n",
       "    }\n",
       "</style>\n",
       "<table border=\"1\" class=\"dataframe\">\n",
       "  <thead>\n",
       "    <tr style=\"text-align: right;\">\n",
       "      <th></th>\n",
       "      <th>answers</th>\n",
       "      <th>passages</th>\n",
       "      <th>query</th>\n",
       "      <th>query_id</th>\n",
       "      <th>query_type</th>\n",
       "      <th>wellFormedAnswers</th>\n",
       "    </tr>\n",
       "  </thead>\n",
       "  <tbody>\n",
       "    <tr>\n",
       "      <th>0</th>\n",
       "      <td>[Results-Based Accountability is a disciplined...</td>\n",
       "      <td>{'is_selected': [0, 0, 0, 0, 0, 1, 0, 0, 0, 0]...</td>\n",
       "      <td>what is rba</td>\n",
       "      <td>19699</td>\n",
       "      <td>description</td>\n",
       "      <td>[]</td>\n",
       "    </tr>\n",
       "    <tr>\n",
       "      <th>1</th>\n",
       "      <td>[Yes]</td>\n",
       "      <td>{'is_selected': [0, 1, 0, 0, 0, 0, 0], 'passag...</td>\n",
       "      <td>was ronald reagan a democrat</td>\n",
       "      <td>19700</td>\n",
       "      <td>description</td>\n",
       "      <td>[]</td>\n",
       "    </tr>\n",
       "    <tr>\n",
       "      <th>2</th>\n",
       "      <td>[20-25 minutes]</td>\n",
       "      <td>{'is_selected': [0, 0, 0, 0, 1, 0, 0, 0, 0, 0]...</td>\n",
       "      <td>how long do you need for sydney and surroundin...</td>\n",
       "      <td>19701</td>\n",
       "      <td>numeric</td>\n",
       "      <td>[]</td>\n",
       "    </tr>\n",
       "    <tr>\n",
       "      <th>3</th>\n",
       "      <td>[$11 to $22 per square foot]</td>\n",
       "      <td>{'is_selected': [0, 0, 0, 0, 0, 0, 0, 0, 1], '...</td>\n",
       "      <td>price to install tile in shower</td>\n",
       "      <td>19702</td>\n",
       "      <td>numeric</td>\n",
       "      <td>[]</td>\n",
       "    </tr>\n",
       "    <tr>\n",
       "      <th>4</th>\n",
       "      <td>[Due to symptoms in the body]</td>\n",
       "      <td>{'is_selected': [0, 0, 1, 0, 0, 0, 0, 0], 'pas...</td>\n",
       "      <td>why conversion observed in body</td>\n",
       "      <td>19703</td>\n",
       "      <td>description</td>\n",
       "      <td>[]</td>\n",
       "    </tr>\n",
       "  </tbody>\n",
       "</table>\n",
       "</div>"
      ],
      "text/plain": [
       "                                             answers  \\\n",
       "0  [Results-Based Accountability is a disciplined...   \n",
       "1                                              [Yes]   \n",
       "2                                    [20-25 minutes]   \n",
       "3                       [$11 to $22 per square foot]   \n",
       "4                      [Due to symptoms in the body]   \n",
       "\n",
       "                                            passages  \\\n",
       "0  {'is_selected': [0, 0, 0, 0, 0, 1, 0, 0, 0, 0]...   \n",
       "1  {'is_selected': [0, 1, 0, 0, 0, 0, 0], 'passag...   \n",
       "2  {'is_selected': [0, 0, 0, 0, 1, 0, 0, 0, 0, 0]...   \n",
       "3  {'is_selected': [0, 0, 0, 0, 0, 0, 0, 0, 1], '...   \n",
       "4  {'is_selected': [0, 0, 1, 0, 0, 0, 0, 0], 'pas...   \n",
       "\n",
       "                                               query  query_id   query_type  \\\n",
       "0                                        what is rba     19699  description   \n",
       "1                       was ronald reagan a democrat     19700  description   \n",
       "2  how long do you need for sydney and surroundin...     19701      numeric   \n",
       "3                    price to install tile in shower     19702      numeric   \n",
       "4                    why conversion observed in body     19703  description   \n",
       "\n",
       "  wellFormedAnswers  \n",
       "0                []  \n",
       "1                []  \n",
       "2                []  \n",
       "3                []  \n",
       "4                []  "
      ]
     },
     "execution_count": 10,
     "metadata": {},
     "output_type": "execute_result"
    }
   ],
   "source": [
    "ds_df = pd.DataFrame(ds['train'])\n",
    "ds_df.head()"
   ]
  },
  {
   "cell_type": "code",
   "execution_count": 11,
   "metadata": {},
   "outputs": [
    {
     "data": {
      "text/plain": [
       "0        {'is_selected': [0, 0, 0, 0, 0, 1, 0, 0, 0, 0]...\n",
       "1        {'is_selected': [0, 1, 0, 0, 0, 0, 0], 'passag...\n",
       "2        {'is_selected': [0, 0, 0, 0, 1, 0, 0, 0, 0, 0]...\n",
       "3        {'is_selected': [0, 0, 0, 0, 0, 0, 0, 0, 1], '...\n",
       "4        {'is_selected': [0, 0, 1, 0, 0, 0, 0, 0], 'pas...\n",
       "                               ...                        \n",
       "82321    {'is_selected': [1, 0, 0], 'passage_text': ['d...\n",
       "82322    {'is_selected': [0, 0, 1, 0, 0, 0, 0, 0, 0], '...\n",
       "82323    {'is_selected': [0, 1, 0, 0, 0, 0], 'passage_t...\n",
       "82324    {'is_selected': [0, 0, 0, 1, 0, 0, 0, 0, 0], '...\n",
       "82325    {'is_selected': [1, 0, 0, 0, 0, 0, 0, 0, 0, 0]...\n",
       "Name: passages, Length: 82326, dtype: object"
      ]
     },
     "execution_count": 11,
     "metadata": {},
     "output_type": "execute_result"
    }
   ],
   "source": [
    "ds_df['passages']"
   ]
  },
  {
   "cell_type": "code",
   "execution_count": 12,
   "metadata": {},
   "outputs": [
    {
     "name": "stdout",
     "output_type": "stream",
     "text": [
      "<class 'pandas.core.frame.DataFrame'>\n",
      "                      is_selected  \\\n",
      "0  [0, 0, 0, 0, 0, 1, 0, 0, 0, 0]   \n",
      "1           [0, 1, 0, 0, 0, 0, 0]   \n",
      "2  [0, 0, 0, 0, 1, 0, 0, 0, 0, 0]   \n",
      "3     [0, 0, 0, 0, 0, 0, 0, 0, 1]   \n",
      "4        [0, 0, 1, 0, 0, 0, 0, 0]   \n",
      "\n",
      "                                        passage_text  \\\n",
      "0  [Since 2007, the RBA's outstanding reputation ...   \n",
      "1  [In his younger years, Ronald Reagan was a mem...   \n",
      "2  [Sydney, New South Wales, Australia is located...   \n",
      "3  [In regards to tile installation costs, consum...   \n",
      "4  [Conclusions: In adult body CT, dose to an org...   \n",
      "\n",
      "                                                 url  \n",
      "0  [https://en.wikipedia.org/wiki/Reserve_Bank_of...  \n",
      "1  [http://www.history.com/topics/us-presidents/r...  \n",
      "2  [https://en.wikipedia.org/wiki/Geography_of_Sy...  \n",
      "3  [http://www.improvenet.com/r/costs-and-prices/...  \n",
      "4  [http://www.ncbi.nlm.nih.gov/pmc/articles/PMC3...  \n"
     ]
    }
   ],
   "source": [
    "passages_df = ds_df[\"passages\"].apply(pd.Series)\n",
    "print(type(passages_df))\n",
    "print(passages_df.head())"
   ]
  },
  {
   "cell_type": "code",
   "execution_count": 13,
   "metadata": {},
   "outputs": [
    {
     "data": {
      "text/html": [
       "<div>\n",
       "<style scoped>\n",
       "    .dataframe tbody tr th:only-of-type {\n",
       "        vertical-align: middle;\n",
       "    }\n",
       "\n",
       "    .dataframe tbody tr th {\n",
       "        vertical-align: top;\n",
       "    }\n",
       "\n",
       "    .dataframe thead th {\n",
       "        text-align: right;\n",
       "    }\n",
       "</style>\n",
       "<table border=\"1\" class=\"dataframe\">\n",
       "  <thead>\n",
       "    <tr style=\"text-align: right;\">\n",
       "      <th></th>\n",
       "      <th>is_selected</th>\n",
       "      <th>passage_text</th>\n",
       "      <th>url</th>\n",
       "    </tr>\n",
       "  </thead>\n",
       "  <tbody>\n",
       "    <tr>\n",
       "      <th>0</th>\n",
       "      <td>[0, 0, 0, 0, 0, 1, 0, 0, 0, 0]</td>\n",
       "      <td>[Since 2007, the RBA's outstanding reputation ...</td>\n",
       "      <td>[https://en.wikipedia.org/wiki/Reserve_Bank_of...</td>\n",
       "    </tr>\n",
       "    <tr>\n",
       "      <th>1</th>\n",
       "      <td>[0, 1, 0, 0, 0, 0, 0]</td>\n",
       "      <td>[In his younger years, Ronald Reagan was a mem...</td>\n",
       "      <td>[http://www.history.com/topics/us-presidents/r...</td>\n",
       "    </tr>\n",
       "    <tr>\n",
       "      <th>2</th>\n",
       "      <td>[0, 0, 0, 0, 1, 0, 0, 0, 0, 0]</td>\n",
       "      <td>[Sydney, New South Wales, Australia is located...</td>\n",
       "      <td>[https://en.wikipedia.org/wiki/Geography_of_Sy...</td>\n",
       "    </tr>\n",
       "    <tr>\n",
       "      <th>3</th>\n",
       "      <td>[0, 0, 0, 0, 0, 0, 0, 0, 1]</td>\n",
       "      <td>[In regards to tile installation costs, consum...</td>\n",
       "      <td>[http://www.improvenet.com/r/costs-and-prices/...</td>\n",
       "    </tr>\n",
       "    <tr>\n",
       "      <th>4</th>\n",
       "      <td>[0, 0, 1, 0, 0, 0, 0, 0]</td>\n",
       "      <td>[Conclusions: In adult body CT, dose to an org...</td>\n",
       "      <td>[http://www.ncbi.nlm.nih.gov/pmc/articles/PMC3...</td>\n",
       "    </tr>\n",
       "  </tbody>\n",
       "</table>\n",
       "</div>"
      ],
      "text/plain": [
       "                      is_selected  \\\n",
       "0  [0, 0, 0, 0, 0, 1, 0, 0, 0, 0]   \n",
       "1           [0, 1, 0, 0, 0, 0, 0]   \n",
       "2  [0, 0, 0, 0, 1, 0, 0, 0, 0, 0]   \n",
       "3     [0, 0, 0, 0, 0, 0, 0, 0, 1]   \n",
       "4        [0, 0, 1, 0, 0, 0, 0, 0]   \n",
       "\n",
       "                                        passage_text  \\\n",
       "0  [Since 2007, the RBA's outstanding reputation ...   \n",
       "1  [In his younger years, Ronald Reagan was a mem...   \n",
       "2  [Sydney, New South Wales, Australia is located...   \n",
       "3  [In regards to tile installation costs, consum...   \n",
       "4  [Conclusions: In adult body CT, dose to an org...   \n",
       "\n",
       "                                                 url  \n",
       "0  [https://en.wikipedia.org/wiki/Reserve_Bank_of...  \n",
       "1  [http://www.history.com/topics/us-presidents/r...  \n",
       "2  [https://en.wikipedia.org/wiki/Geography_of_Sy...  \n",
       "3  [http://www.improvenet.com/r/costs-and-prices/...  \n",
       "4  [http://www.ncbi.nlm.nih.gov/pmc/articles/PMC3...  "
      ]
     },
     "execution_count": 13,
     "metadata": {},
     "output_type": "execute_result"
    }
   ],
   "source": [
    "passages_df.head()"
   ]
  },
  {
   "cell_type": "code",
   "execution_count": 14,
   "metadata": {},
   "outputs": [
    {
     "data": {
      "text/html": [
       "<div>\n",
       "<style scoped>\n",
       "    .dataframe tbody tr th:only-of-type {\n",
       "        vertical-align: middle;\n",
       "    }\n",
       "\n",
       "    .dataframe tbody tr th {\n",
       "        vertical-align: top;\n",
       "    }\n",
       "\n",
       "    .dataframe thead th {\n",
       "        text-align: right;\n",
       "    }\n",
       "</style>\n",
       "<table border=\"1\" class=\"dataframe\">\n",
       "  <thead>\n",
       "    <tr style=\"text-align: right;\">\n",
       "      <th></th>\n",
       "      <th>answers</th>\n",
       "      <th>query</th>\n",
       "      <th>query_id</th>\n",
       "      <th>query_type</th>\n",
       "      <th>wellFormedAnswers</th>\n",
       "      <th>is_selected</th>\n",
       "      <th>passage_text</th>\n",
       "      <th>url</th>\n",
       "    </tr>\n",
       "  </thead>\n",
       "  <tbody>\n",
       "    <tr>\n",
       "      <th>0</th>\n",
       "      <td>[Results-Based Accountability is a disciplined...</td>\n",
       "      <td>what is rba</td>\n",
       "      <td>19699</td>\n",
       "      <td>description</td>\n",
       "      <td>[]</td>\n",
       "      <td>[0, 0, 0, 0, 0, 1, 0, 0, 0, 0]</td>\n",
       "      <td>[Since 2007, the RBA's outstanding reputation ...</td>\n",
       "      <td>[https://en.wikipedia.org/wiki/Reserve_Bank_of...</td>\n",
       "    </tr>\n",
       "    <tr>\n",
       "      <th>1</th>\n",
       "      <td>[Yes]</td>\n",
       "      <td>was ronald reagan a democrat</td>\n",
       "      <td>19700</td>\n",
       "      <td>description</td>\n",
       "      <td>[]</td>\n",
       "      <td>[0, 1, 0, 0, 0, 0, 0]</td>\n",
       "      <td>[In his younger years, Ronald Reagan was a mem...</td>\n",
       "      <td>[http://www.history.com/topics/us-presidents/r...</td>\n",
       "    </tr>\n",
       "    <tr>\n",
       "      <th>2</th>\n",
       "      <td>[20-25 minutes]</td>\n",
       "      <td>how long do you need for sydney and surroundin...</td>\n",
       "      <td>19701</td>\n",
       "      <td>numeric</td>\n",
       "      <td>[]</td>\n",
       "      <td>[0, 0, 0, 0, 1, 0, 0, 0, 0, 0]</td>\n",
       "      <td>[Sydney, New South Wales, Australia is located...</td>\n",
       "      <td>[https://en.wikipedia.org/wiki/Geography_of_Sy...</td>\n",
       "    </tr>\n",
       "    <tr>\n",
       "      <th>3</th>\n",
       "      <td>[$11 to $22 per square foot]</td>\n",
       "      <td>price to install tile in shower</td>\n",
       "      <td>19702</td>\n",
       "      <td>numeric</td>\n",
       "      <td>[]</td>\n",
       "      <td>[0, 0, 0, 0, 0, 0, 0, 0, 1]</td>\n",
       "      <td>[In regards to tile installation costs, consum...</td>\n",
       "      <td>[http://www.improvenet.com/r/costs-and-prices/...</td>\n",
       "    </tr>\n",
       "    <tr>\n",
       "      <th>4</th>\n",
       "      <td>[Due to symptoms in the body]</td>\n",
       "      <td>why conversion observed in body</td>\n",
       "      <td>19703</td>\n",
       "      <td>description</td>\n",
       "      <td>[]</td>\n",
       "      <td>[0, 0, 1, 0, 0, 0, 0, 0]</td>\n",
       "      <td>[Conclusions: In adult body CT, dose to an org...</td>\n",
       "      <td>[http://www.ncbi.nlm.nih.gov/pmc/articles/PMC3...</td>\n",
       "    </tr>\n",
       "  </tbody>\n",
       "</table>\n",
       "</div>"
      ],
      "text/plain": [
       "                                             answers  \\\n",
       "0  [Results-Based Accountability is a disciplined...   \n",
       "1                                              [Yes]   \n",
       "2                                    [20-25 minutes]   \n",
       "3                       [$11 to $22 per square foot]   \n",
       "4                      [Due to symptoms in the body]   \n",
       "\n",
       "                                               query  query_id   query_type  \\\n",
       "0                                        what is rba     19699  description   \n",
       "1                       was ronald reagan a democrat     19700  description   \n",
       "2  how long do you need for sydney and surroundin...     19701      numeric   \n",
       "3                    price to install tile in shower     19702      numeric   \n",
       "4                    why conversion observed in body     19703  description   \n",
       "\n",
       "  wellFormedAnswers                     is_selected  \\\n",
       "0                []  [0, 0, 0, 0, 0, 1, 0, 0, 0, 0]   \n",
       "1                []           [0, 1, 0, 0, 0, 0, 0]   \n",
       "2                []  [0, 0, 0, 0, 1, 0, 0, 0, 0, 0]   \n",
       "3                []     [0, 0, 0, 0, 0, 0, 0, 0, 1]   \n",
       "4                []        [0, 0, 1, 0, 0, 0, 0, 0]   \n",
       "\n",
       "                                        passage_text  \\\n",
       "0  [Since 2007, the RBA's outstanding reputation ...   \n",
       "1  [In his younger years, Ronald Reagan was a mem...   \n",
       "2  [Sydney, New South Wales, Australia is located...   \n",
       "3  [In regards to tile installation costs, consum...   \n",
       "4  [Conclusions: In adult body CT, dose to an org...   \n",
       "\n",
       "                                                 url  \n",
       "0  [https://en.wikipedia.org/wiki/Reserve_Bank_of...  \n",
       "1  [http://www.history.com/topics/us-presidents/r...  \n",
       "2  [https://en.wikipedia.org/wiki/Geography_of_Sy...  \n",
       "3  [http://www.improvenet.com/r/costs-and-prices/...  \n",
       "4  [http://www.ncbi.nlm.nih.gov/pmc/articles/PMC3...  "
      ]
     },
     "execution_count": 14,
     "metadata": {},
     "output_type": "execute_result"
    }
   ],
   "source": [
    "df_unrolled = pd.concat([ds_df.drop(columns=[\"passages\"]), passages_df], axis=1)\n",
    "df_unrolled.head()"
   ]
  },
  {
   "cell_type": "code",
   "execution_count": 15,
   "metadata": {},
   "outputs": [
    {
     "data": {
      "text/html": [
       "<div>\n",
       "<style scoped>\n",
       "    .dataframe tbody tr th:only-of-type {\n",
       "        vertical-align: middle;\n",
       "    }\n",
       "\n",
       "    .dataframe tbody tr th {\n",
       "        vertical-align: top;\n",
       "    }\n",
       "\n",
       "    .dataframe thead th {\n",
       "        text-align: right;\n",
       "    }\n",
       "</style>\n",
       "<table border=\"1\" class=\"dataframe\">\n",
       "  <thead>\n",
       "    <tr style=\"text-align: right;\">\n",
       "      <th></th>\n",
       "      <th>answers</th>\n",
       "      <th>query</th>\n",
       "      <th>query_id</th>\n",
       "      <th>query_type</th>\n",
       "      <th>wellFormedAnswers</th>\n",
       "      <th>is_selected</th>\n",
       "      <th>passage_text</th>\n",
       "      <th>url</th>\n",
       "    </tr>\n",
       "  </thead>\n",
       "  <tbody>\n",
       "    <tr>\n",
       "      <th>0</th>\n",
       "      <td>[Results-Based Accountability is a disciplined...</td>\n",
       "      <td>what is rba</td>\n",
       "      <td>19699</td>\n",
       "      <td>description</td>\n",
       "      <td>[]</td>\n",
       "      <td>0</td>\n",
       "      <td>Since 2007, the RBA's outstanding reputation h...</td>\n",
       "      <td>[https://en.wikipedia.org/wiki/Reserve_Bank_of...</td>\n",
       "    </tr>\n",
       "    <tr>\n",
       "      <th>1</th>\n",
       "      <td>[Results-Based Accountability is a disciplined...</td>\n",
       "      <td>what is rba</td>\n",
       "      <td>19699</td>\n",
       "      <td>description</td>\n",
       "      <td>[]</td>\n",
       "      <td>0</td>\n",
       "      <td>The Reserve Bank of Australia (RBA) came into ...</td>\n",
       "      <td>[https://en.wikipedia.org/wiki/Reserve_Bank_of...</td>\n",
       "    </tr>\n",
       "    <tr>\n",
       "      <th>2</th>\n",
       "      <td>[Results-Based Accountability is a disciplined...</td>\n",
       "      <td>what is rba</td>\n",
       "      <td>19699</td>\n",
       "      <td>description</td>\n",
       "      <td>[]</td>\n",
       "      <td>0</td>\n",
       "      <td>RBA Recognized with the 2014 Microsoft US Regi...</td>\n",
       "      <td>[https://en.wikipedia.org/wiki/Reserve_Bank_of...</td>\n",
       "    </tr>\n",
       "    <tr>\n",
       "      <th>3</th>\n",
       "      <td>[Results-Based Accountability is a disciplined...</td>\n",
       "      <td>what is rba</td>\n",
       "      <td>19699</td>\n",
       "      <td>description</td>\n",
       "      <td>[]</td>\n",
       "      <td>0</td>\n",
       "      <td>The inner workings of a rebuildable atomizer a...</td>\n",
       "      <td>[https://en.wikipedia.org/wiki/Reserve_Bank_of...</td>\n",
       "    </tr>\n",
       "    <tr>\n",
       "      <th>4</th>\n",
       "      <td>[Results-Based Accountability is a disciplined...</td>\n",
       "      <td>what is rba</td>\n",
       "      <td>19699</td>\n",
       "      <td>description</td>\n",
       "      <td>[]</td>\n",
       "      <td>0</td>\n",
       "      <td>Results-Based Accountability® (also known as R...</td>\n",
       "      <td>[https://en.wikipedia.org/wiki/Reserve_Bank_of...</td>\n",
       "    </tr>\n",
       "  </tbody>\n",
       "</table>\n",
       "</div>"
      ],
      "text/plain": [
       "                                             answers        query  query_id  \\\n",
       "0  [Results-Based Accountability is a disciplined...  what is rba     19699   \n",
       "1  [Results-Based Accountability is a disciplined...  what is rba     19699   \n",
       "2  [Results-Based Accountability is a disciplined...  what is rba     19699   \n",
       "3  [Results-Based Accountability is a disciplined...  what is rba     19699   \n",
       "4  [Results-Based Accountability is a disciplined...  what is rba     19699   \n",
       "\n",
       "    query_type wellFormedAnswers is_selected  \\\n",
       "0  description                []           0   \n",
       "1  description                []           0   \n",
       "2  description                []           0   \n",
       "3  description                []           0   \n",
       "4  description                []           0   \n",
       "\n",
       "                                        passage_text  \\\n",
       "0  Since 2007, the RBA's outstanding reputation h...   \n",
       "1  The Reserve Bank of Australia (RBA) came into ...   \n",
       "2  RBA Recognized with the 2014 Microsoft US Regi...   \n",
       "3  The inner workings of a rebuildable atomizer a...   \n",
       "4  Results-Based Accountability® (also known as R...   \n",
       "\n",
       "                                                 url  \n",
       "0  [https://en.wikipedia.org/wiki/Reserve_Bank_of...  \n",
       "1  [https://en.wikipedia.org/wiki/Reserve_Bank_of...  \n",
       "2  [https://en.wikipedia.org/wiki/Reserve_Bank_of...  \n",
       "3  [https://en.wikipedia.org/wiki/Reserve_Bank_of...  \n",
       "4  [https://en.wikipedia.org/wiki/Reserve_Bank_of...  "
      ]
     },
     "execution_count": 15,
     "metadata": {},
     "output_type": "execute_result"
    }
   ],
   "source": [
    "# Step 3: Explode both columns to create separate rows\n",
    "df_exploded = df_unrolled.explode([\"is_selected\", \"passage_text\"], ignore_index=True)\n",
    "\n",
    "# Display the final transformed DataFrame\n",
    "df_exploded.head()"
   ]
  },
  {
   "cell_type": "code",
   "execution_count": 28,
   "metadata": {},
   "outputs": [
    {
     "name": "stdout",
     "output_type": "stream",
     "text": [
      "Index(['answers', 'query', 'query_id', 'query_type', 'wellFormedAnswers',\n",
      "       'is_selected', 'passage_text', 'url'],\n",
      "      dtype='object')\n"
     ]
    }
   ],
   "source": [
    "print(df_exploded.columns)"
   ]
  },
  {
   "cell_type": "code",
   "execution_count": 16,
   "metadata": {},
   "outputs": [
    {
     "name": "stdout",
     "output_type": "stream",
     "text": [
      "70.88771992611576\n"
     ]
    }
   ],
   "source": [
    "# Select the 'passage_text' column and create a new DataFrame\n",
    "passage_txt_df = df_exploded[['passage_text']].copy()\n",
    "\n",
    "# Calculate the word length of each passage\n",
    "passage_txt_df['passage_w_length'] = passage_txt_df['passage_text'].apply(lambda x: len(x.split()))\n",
    "\n",
    "# Compute the average word length\n",
    "avg_passage_w_length = passage_txt_df['passage_w_length'].mean()\n",
    "\n",
    "# Print the average word length\n",
    "print(avg_passage_w_length)"
   ]
  },
  {
   "cell_type": "code",
   "execution_count": 17,
   "metadata": {},
   "outputs": [
    {
     "data": {
      "text/plain": [
       "<Axes: >"
      ]
     },
     "execution_count": 17,
     "metadata": {},
     "output_type": "execute_result"
    },
    {
     "data": {
      "image/png": "[encoded data removed]",
      "text/plain": [
       "<Figure size 640x480 with 1 Axes>"
      ]
     },
     "metadata": {},
     "output_type": "display_data"
    }
   ],
   "source": [
    "passage_txt_df['passage_w_length'].hist(bins=30)"
   ]
  },
  {
   "cell_type": "code",
   "execution_count": null,
   "metadata": {},
   "outputs": [
    {
     "name": "stdout",
     "output_type": "stream",
     "text": [
      "8.21360202123266\n"
     ]
    }
   ],
   "source": [
    "# Select the 'passage_text' column and create a new DataFrame\n",
    "is_selected_df = df_unrolled[['is_selected']].copy()\n",
    "\n",
    "# Calculate the word length of each passage\n",
    "is_selected_df['sel_length'] = is_selected_df['is_selected'].apply(len)\n",
    "\n",
    "# Compute the average passage length\n",
    "sel_mean = is_selected_df['sel_length'].mean()\n",
    "\n",
    "# Print the average word length\n",
    "print(sel_mean)"
   ]
  },
  {
   "cell_type": "code",
   "execution_count": 27,
   "metadata": {},
   "outputs": [
    {
     "data": {
      "text/plain": [
       "<Axes: >"
      ]
     },
     "execution_count": 27,
     "metadata": {},
     "output_type": "execute_result"
    },
    {
     "data": {
      "image/png": "[encoded data removed]",
      "text/plain": [
       "<Figure size 640x480 with 1 Axes>"
      ]
     },
     "metadata": {},
     "output_type": "display_data"
    }
   ],
   "source": [
    "is_selected_df['sel_length'].hist(bins=30)"
   ]
  },
  {
   "cell_type": "code",
   "execution_count": null,
   "metadata": {},
   "outputs": [],
   "source": []
  }
 ],
 "metadata": {
  "kernelspec": {
   "display_name": "two-tower-Me6OBJN1-py3.13",
   "language": "python",
   "name": "python3"
  },
  "language_info": {
   "codemirror_mode": {
    "name": "ipython",
    "version": 3
   },
   "file_extension": ".py",
   "mimetype": "text/x-python",
   "name": "python",
   "nbconvert_exporter": "python",
   "pygments_lexer": "ipython3",
   "version": "3.13.1"
  }
 },
 "nbformat": 4,
 "nbformat_minor": 2
}
